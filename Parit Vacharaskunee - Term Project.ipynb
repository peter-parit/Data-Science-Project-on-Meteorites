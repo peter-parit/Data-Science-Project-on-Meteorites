{
 "cells": [
  {
   "cell_type": "markdown",
   "metadata": {},
   "source": [
    "### <center>ICCS 261 Term Project</center>\n",
    "# <center>Meteorite Landings: Patterns and Predictions</center>\n",
    "#### <center>Submitted by Parit Vacharaskunee, ID 6580209<center>"
   ]
  },
  {
   "cell_type": "markdown",
   "metadata": {},
   "source": [
    "-----------"
   ]
  },
  {
   "cell_type": "markdown",
   "metadata": {},
   "source": [
    "#### **Introduction to the Research Question**"
   ]
  },
  {
   "cell_type": "markdown",
   "metadata": {},
   "source": [
    "Meteorite landings are intriguing natural phenomena that gives us insights on space and the solar system. The study of meteorites not only helps us understand the materials that constitute other planets but also provides clues about the early solar system and the formation of planets. This research aims to explore patterns in meteorite landings and develop classifcation models based on various characteristics such as weight, location of landing, and whether the meteorite was found or fell.\n",
    "\n",
    "***Research Question***:\n",
    "- Can meteorites be distinguished to either stone, iron, or stony iron types by its features?"
   ]
  },
  {
   "cell_type": "markdown",
   "metadata": {},
   "source": [
    "This project will utilize a dataset from NASA, which includes information about meteorite landings until the year 2013. By analyzing this dataset, we aim to identify patterns and develop models that can predict the classification of meteorites based on the features.\n",
    "\n",
    "**Resource: [NASA Meteorite Landings Dataset](https://data.nasa.gov/Space-Science/Meteorite-Landings/gh4g-9sfh/about_data)**"
   ]
  },
  {
   "cell_type": "markdown",
   "metadata": {},
   "source": [
    "#### **Purpose and Objectives**"
   ]
  },
  {
   "cell_type": "markdown",
   "metadata": {},
   "source": [
    "***Purpose***: Gain insights into the patterns and characteristics that might help distinguish the types of meteorites. Find patterns or trends that could be useful towards the study of Meteorology, which will enhance our understanding of the classification of meteorites.\n",
    "\n",
    "***Objectives***: The main objective is to determine if the characteristics of meteorites (mass, geolocation, and its found status) can be used to distinguish the different types of meteorites. This will be done by making classification models and determine the possibility by analyzing the respective scores and performance of the models. To achive this, this research will:\n",
    "1. Perform EDA's to identify patterns or trends that might help with identify the different types of meteorites.\n",
    "2. Develop classification models that will identify meteorites based on given features and characteristics.\n",
    "3. Further score evaluation can help see whether the model is of optimal performance or not."
   ]
  },
  {
   "cell_type": "markdown",
   "metadata": {},
   "source": [
    "----"
   ]
  },
  {
   "cell_type": "markdown",
   "metadata": {},
   "source": [
    "#### **Data Cleaning and Preparation**"
   ]
  },
  {
   "cell_type": "code",
   "execution_count": 607,
   "metadata": {},
   "outputs": [],
   "source": [
    "import pandas as pd\n",
    "import matplotlib.pyplot as plt\n",
    "import seaborn as sns"
   ]
  },
  {
   "cell_type": "code",
   "execution_count": 608,
   "metadata": {},
   "outputs": [
    {
     "data": {
      "text/html": [
       "<div>\n",
       "<style scoped>\n",
       "    .dataframe tbody tr th:only-of-type {\n",
       "        vertical-align: middle;\n",
       "    }\n",
       "\n",
       "    .dataframe tbody tr th {\n",
       "        vertical-align: top;\n",
       "    }\n",
       "\n",
       "    .dataframe thead th {\n",
       "        text-align: right;\n",
       "    }\n",
       "</style>\n",
       "<table border=\"1\" class=\"dataframe\">\n",
       "  <thead>\n",
       "    <tr style=\"text-align: right;\">\n",
       "      <th></th>\n",
       "      <th>name</th>\n",
       "      <th>id</th>\n",
       "      <th>nametype</th>\n",
       "      <th>recclass</th>\n",
       "      <th>mass (g)</th>\n",
       "      <th>fall</th>\n",
       "      <th>year</th>\n",
       "      <th>reclat</th>\n",
       "      <th>reclong</th>\n",
       "      <th>GeoLocation</th>\n",
       "    </tr>\n",
       "  </thead>\n",
       "  <tbody>\n",
       "    <tr>\n",
       "      <th>0</th>\n",
       "      <td>Aachen</td>\n",
       "      <td>1</td>\n",
       "      <td>Valid</td>\n",
       "      <td>L5</td>\n",
       "      <td>21.0</td>\n",
       "      <td>Fell</td>\n",
       "      <td>1880.0</td>\n",
       "      <td>50.77500</td>\n",
       "      <td>6.08333</td>\n",
       "      <td>(50.775, 6.08333)</td>\n",
       "    </tr>\n",
       "    <tr>\n",
       "      <th>1</th>\n",
       "      <td>Aarhus</td>\n",
       "      <td>2</td>\n",
       "      <td>Valid</td>\n",
       "      <td>H6</td>\n",
       "      <td>720.0</td>\n",
       "      <td>Fell</td>\n",
       "      <td>1951.0</td>\n",
       "      <td>56.18333</td>\n",
       "      <td>10.23333</td>\n",
       "      <td>(56.18333, 10.23333)</td>\n",
       "    </tr>\n",
       "    <tr>\n",
       "      <th>2</th>\n",
       "      <td>Abee</td>\n",
       "      <td>6</td>\n",
       "      <td>Valid</td>\n",
       "      <td>EH4</td>\n",
       "      <td>107000.0</td>\n",
       "      <td>Fell</td>\n",
       "      <td>1952.0</td>\n",
       "      <td>54.21667</td>\n",
       "      <td>-113.00000</td>\n",
       "      <td>(54.21667, -113.0)</td>\n",
       "    </tr>\n",
       "    <tr>\n",
       "      <th>3</th>\n",
       "      <td>Acapulco</td>\n",
       "      <td>10</td>\n",
       "      <td>Valid</td>\n",
       "      <td>Acapulcoite</td>\n",
       "      <td>1914.0</td>\n",
       "      <td>Fell</td>\n",
       "      <td>1976.0</td>\n",
       "      <td>16.88333</td>\n",
       "      <td>-99.90000</td>\n",
       "      <td>(16.88333, -99.9)</td>\n",
       "    </tr>\n",
       "    <tr>\n",
       "      <th>4</th>\n",
       "      <td>Achiras</td>\n",
       "      <td>370</td>\n",
       "      <td>Valid</td>\n",
       "      <td>L6</td>\n",
       "      <td>780.0</td>\n",
       "      <td>Fell</td>\n",
       "      <td>1902.0</td>\n",
       "      <td>-33.16667</td>\n",
       "      <td>-64.95000</td>\n",
       "      <td>(-33.16667, -64.95)</td>\n",
       "    </tr>\n",
       "    <tr>\n",
       "      <th>...</th>\n",
       "      <td>...</td>\n",
       "      <td>...</td>\n",
       "      <td>...</td>\n",
       "      <td>...</td>\n",
       "      <td>...</td>\n",
       "      <td>...</td>\n",
       "      <td>...</td>\n",
       "      <td>...</td>\n",
       "      <td>...</td>\n",
       "      <td>...</td>\n",
       "    </tr>\n",
       "    <tr>\n",
       "      <th>45711</th>\n",
       "      <td>Zillah 002</td>\n",
       "      <td>31356</td>\n",
       "      <td>Valid</td>\n",
       "      <td>Eucrite</td>\n",
       "      <td>172.0</td>\n",
       "      <td>Found</td>\n",
       "      <td>1990.0</td>\n",
       "      <td>29.03700</td>\n",
       "      <td>17.01850</td>\n",
       "      <td>(29.037, 17.0185)</td>\n",
       "    </tr>\n",
       "    <tr>\n",
       "      <th>45712</th>\n",
       "      <td>Zinder</td>\n",
       "      <td>30409</td>\n",
       "      <td>Valid</td>\n",
       "      <td>Pallasite, ungrouped</td>\n",
       "      <td>46.0</td>\n",
       "      <td>Found</td>\n",
       "      <td>1999.0</td>\n",
       "      <td>13.78333</td>\n",
       "      <td>8.96667</td>\n",
       "      <td>(13.78333, 8.96667)</td>\n",
       "    </tr>\n",
       "    <tr>\n",
       "      <th>45713</th>\n",
       "      <td>Zlin</td>\n",
       "      <td>30410</td>\n",
       "      <td>Valid</td>\n",
       "      <td>H4</td>\n",
       "      <td>3.3</td>\n",
       "      <td>Found</td>\n",
       "      <td>1939.0</td>\n",
       "      <td>49.25000</td>\n",
       "      <td>17.66667</td>\n",
       "      <td>(49.25, 17.66667)</td>\n",
       "    </tr>\n",
       "    <tr>\n",
       "      <th>45714</th>\n",
       "      <td>Zubkovsky</td>\n",
       "      <td>31357</td>\n",
       "      <td>Valid</td>\n",
       "      <td>L6</td>\n",
       "      <td>2167.0</td>\n",
       "      <td>Found</td>\n",
       "      <td>2003.0</td>\n",
       "      <td>49.78917</td>\n",
       "      <td>41.50460</td>\n",
       "      <td>(49.78917, 41.5046)</td>\n",
       "    </tr>\n",
       "    <tr>\n",
       "      <th>45715</th>\n",
       "      <td>Zulu Queen</td>\n",
       "      <td>30414</td>\n",
       "      <td>Valid</td>\n",
       "      <td>L3.7</td>\n",
       "      <td>200.0</td>\n",
       "      <td>Found</td>\n",
       "      <td>1976.0</td>\n",
       "      <td>33.98333</td>\n",
       "      <td>-115.68333</td>\n",
       "      <td>(33.98333, -115.68333)</td>\n",
       "    </tr>\n",
       "  </tbody>\n",
       "</table>\n",
       "<p>45716 rows × 10 columns</p>\n",
       "</div>"
      ],
      "text/plain": [
       "             name     id nametype              recclass  mass (g)   fall  \\\n",
       "0          Aachen      1    Valid                    L5      21.0   Fell   \n",
       "1          Aarhus      2    Valid                    H6     720.0   Fell   \n",
       "2            Abee      6    Valid                   EH4  107000.0   Fell   \n",
       "3        Acapulco     10    Valid           Acapulcoite    1914.0   Fell   \n",
       "4         Achiras    370    Valid                    L6     780.0   Fell   \n",
       "...           ...    ...      ...                   ...       ...    ...   \n",
       "45711  Zillah 002  31356    Valid               Eucrite     172.0  Found   \n",
       "45712      Zinder  30409    Valid  Pallasite, ungrouped      46.0  Found   \n",
       "45713        Zlin  30410    Valid                    H4       3.3  Found   \n",
       "45714   Zubkovsky  31357    Valid                    L6    2167.0  Found   \n",
       "45715  Zulu Queen  30414    Valid                  L3.7     200.0  Found   \n",
       "\n",
       "         year    reclat    reclong             GeoLocation  \n",
       "0      1880.0  50.77500    6.08333       (50.775, 6.08333)  \n",
       "1      1951.0  56.18333   10.23333    (56.18333, 10.23333)  \n",
       "2      1952.0  54.21667 -113.00000      (54.21667, -113.0)  \n",
       "3      1976.0  16.88333  -99.90000       (16.88333, -99.9)  \n",
       "4      1902.0 -33.16667  -64.95000     (-33.16667, -64.95)  \n",
       "...       ...       ...        ...                     ...  \n",
       "45711  1990.0  29.03700   17.01850       (29.037, 17.0185)  \n",
       "45712  1999.0  13.78333    8.96667     (13.78333, 8.96667)  \n",
       "45713  1939.0  49.25000   17.66667       (49.25, 17.66667)  \n",
       "45714  2003.0  49.78917   41.50460     (49.78917, 41.5046)  \n",
       "45715  1976.0  33.98333 -115.68333  (33.98333, -115.68333)  \n",
       "\n",
       "[45716 rows x 10 columns]"
      ]
     },
     "execution_count": 608,
     "metadata": {},
     "output_type": "execute_result"
    }
   ],
   "source": [
    "df = pd.read_csv('Meteorite_Landings_20240713.csv')\n",
    "df"
   ]
  },
  {
   "cell_type": "markdown",
   "metadata": {},
   "source": [
    "There are a total of 10 columns:\n",
    "* name: name of the meteorites\n",
    "* id: id of the meteorites\n",
    "* nametype: check whether name is valid or not\n",
    "* recclass: classification of the meteorites\n",
    "* mass: estimated mass of the meteorites in grams (g)\n",
    "* fall: determine whether the meteorite is fell or found\n",
    "* year: estimated year the meteorite fell or was founded\n",
    "* reclat: latitude of the site\n",
    "* reclong: longitude of the site\n",
    "* GeoLocation: the combined position of the site"
   ]
  },
  {
   "cell_type": "code",
   "execution_count": 609,
   "metadata": {},
   "outputs": [
    {
     "data": {
      "text/plain": [
       "name           0\n",
       "recclass       0\n",
       "mass (g)     131\n",
       "fall           0\n",
       "year         291\n",
       "reclat      7315\n",
       "reclong     7315\n",
       "dtype: int64"
      ]
     },
     "execution_count": 609,
     "metadata": {},
     "output_type": "execute_result"
    }
   ],
   "source": [
    "df = df.drop(['id', 'nametype', 'GeoLocation'], axis = 1) # columns are insignificant/are not needed\n",
    "df.isna().sum()"
   ]
  },
  {
   "cell_type": "markdown",
   "metadata": {},
   "source": [
    "#### Data Cleaning"
   ]
  },
  {
   "cell_type": "code",
   "execution_count": 610,
   "metadata": {},
   "outputs": [],
   "source": [
    "# Since there are a lot of missing data in reclat/reclong, a forward fill will be done as no significant average can be calculated from locations.\n",
    "df[['reclat', 'reclong']] = df[['reclat', 'reclong']].fillna(method = 'ffill')"
   ]
  },
  {
   "cell_type": "code",
   "execution_count": 611,
   "metadata": {},
   "outputs": [
    {
     "data": {
      "text/plain": [
       "name          0\n",
       "recclass      0\n",
       "mass (g)    131\n",
       "fall          0\n",
       "year        291\n",
       "reclat        0\n",
       "reclong       0\n",
       "dtype: int64"
      ]
     },
     "execution_count": 611,
     "metadata": {},
     "output_type": "execute_result"
    }
   ],
   "source": [
    "df.isna().sum()"
   ]
  },
  {
   "cell_type": "code",
   "execution_count": 612,
   "metadata": {},
   "outputs": [
    {
     "data": {
      "text/html": [
       "<div>\n",
       "<style scoped>\n",
       "    .dataframe tbody tr th:only-of-type {\n",
       "        vertical-align: middle;\n",
       "    }\n",
       "\n",
       "    .dataframe tbody tr th {\n",
       "        vertical-align: top;\n",
       "    }\n",
       "\n",
       "    .dataframe thead th {\n",
       "        text-align: right;\n",
       "    }\n",
       "</style>\n",
       "<table border=\"1\" class=\"dataframe\">\n",
       "  <thead>\n",
       "    <tr style=\"text-align: right;\">\n",
       "      <th></th>\n",
       "      <th>name</th>\n",
       "      <th>recclass</th>\n",
       "      <th>mass (g)</th>\n",
       "      <th>fall</th>\n",
       "      <th>year</th>\n",
       "      <th>reclat</th>\n",
       "      <th>reclong</th>\n",
       "    </tr>\n",
       "  </thead>\n",
       "  <tbody>\n",
       "    <tr>\n",
       "      <th>0</th>\n",
       "      <td>Aachen</td>\n",
       "      <td>L5</td>\n",
       "      <td>21.0</td>\n",
       "      <td>Fell</td>\n",
       "      <td>1880.0</td>\n",
       "      <td>50.77500</td>\n",
       "      <td>6.08333</td>\n",
       "    </tr>\n",
       "    <tr>\n",
       "      <th>1</th>\n",
       "      <td>Aarhus</td>\n",
       "      <td>H6</td>\n",
       "      <td>720.0</td>\n",
       "      <td>Fell</td>\n",
       "      <td>1951.0</td>\n",
       "      <td>56.18333</td>\n",
       "      <td>10.23333</td>\n",
       "    </tr>\n",
       "    <tr>\n",
       "      <th>2</th>\n",
       "      <td>Abee</td>\n",
       "      <td>EH4</td>\n",
       "      <td>107000.0</td>\n",
       "      <td>Fell</td>\n",
       "      <td>1952.0</td>\n",
       "      <td>54.21667</td>\n",
       "      <td>-113.00000</td>\n",
       "    </tr>\n",
       "    <tr>\n",
       "      <th>3</th>\n",
       "      <td>Acapulco</td>\n",
       "      <td>Acapulcoite</td>\n",
       "      <td>1914.0</td>\n",
       "      <td>Fell</td>\n",
       "      <td>1976.0</td>\n",
       "      <td>16.88333</td>\n",
       "      <td>-99.90000</td>\n",
       "    </tr>\n",
       "    <tr>\n",
       "      <th>4</th>\n",
       "      <td>Achiras</td>\n",
       "      <td>L6</td>\n",
       "      <td>780.0</td>\n",
       "      <td>Fell</td>\n",
       "      <td>1902.0</td>\n",
       "      <td>-33.16667</td>\n",
       "      <td>-64.95000</td>\n",
       "    </tr>\n",
       "    <tr>\n",
       "      <th>...</th>\n",
       "      <td>...</td>\n",
       "      <td>...</td>\n",
       "      <td>...</td>\n",
       "      <td>...</td>\n",
       "      <td>...</td>\n",
       "      <td>...</td>\n",
       "      <td>...</td>\n",
       "    </tr>\n",
       "    <tr>\n",
       "      <th>45711</th>\n",
       "      <td>Zillah 002</td>\n",
       "      <td>Eucrite</td>\n",
       "      <td>172.0</td>\n",
       "      <td>Found</td>\n",
       "      <td>1990.0</td>\n",
       "      <td>29.03700</td>\n",
       "      <td>17.01850</td>\n",
       "    </tr>\n",
       "    <tr>\n",
       "      <th>45712</th>\n",
       "      <td>Zinder</td>\n",
       "      <td>Pallasite, ungrouped</td>\n",
       "      <td>46.0</td>\n",
       "      <td>Found</td>\n",
       "      <td>1999.0</td>\n",
       "      <td>13.78333</td>\n",
       "      <td>8.96667</td>\n",
       "    </tr>\n",
       "    <tr>\n",
       "      <th>45713</th>\n",
       "      <td>Zlin</td>\n",
       "      <td>H4</td>\n",
       "      <td>3.3</td>\n",
       "      <td>Found</td>\n",
       "      <td>1939.0</td>\n",
       "      <td>49.25000</td>\n",
       "      <td>17.66667</td>\n",
       "    </tr>\n",
       "    <tr>\n",
       "      <th>45714</th>\n",
       "      <td>Zubkovsky</td>\n",
       "      <td>L6</td>\n",
       "      <td>2167.0</td>\n",
       "      <td>Found</td>\n",
       "      <td>2003.0</td>\n",
       "      <td>49.78917</td>\n",
       "      <td>41.50460</td>\n",
       "    </tr>\n",
       "    <tr>\n",
       "      <th>45715</th>\n",
       "      <td>Zulu Queen</td>\n",
       "      <td>L3.7</td>\n",
       "      <td>200.0</td>\n",
       "      <td>Found</td>\n",
       "      <td>1976.0</td>\n",
       "      <td>33.98333</td>\n",
       "      <td>-115.68333</td>\n",
       "    </tr>\n",
       "  </tbody>\n",
       "</table>\n",
       "<p>45716 rows × 7 columns</p>\n",
       "</div>"
      ],
      "text/plain": [
       "             name              recclass  mass (g)   fall    year    reclat  \\\n",
       "0          Aachen                    L5      21.0   Fell  1880.0  50.77500   \n",
       "1          Aarhus                    H6     720.0   Fell  1951.0  56.18333   \n",
       "2            Abee                   EH4  107000.0   Fell  1952.0  54.21667   \n",
       "3        Acapulco           Acapulcoite    1914.0   Fell  1976.0  16.88333   \n",
       "4         Achiras                    L6     780.0   Fell  1902.0 -33.16667   \n",
       "...           ...                   ...       ...    ...     ...       ...   \n",
       "45711  Zillah 002               Eucrite     172.0  Found  1990.0  29.03700   \n",
       "45712      Zinder  Pallasite, ungrouped      46.0  Found  1999.0  13.78333   \n",
       "45713        Zlin                    H4       3.3  Found  1939.0  49.25000   \n",
       "45714   Zubkovsky                    L6    2167.0  Found  2003.0  49.78917   \n",
       "45715  Zulu Queen                  L3.7     200.0  Found  1976.0  33.98333   \n",
       "\n",
       "         reclong  \n",
       "0        6.08333  \n",
       "1       10.23333  \n",
       "2     -113.00000  \n",
       "3      -99.90000  \n",
       "4      -64.95000  \n",
       "...          ...  \n",
       "45711   17.01850  \n",
       "45712    8.96667  \n",
       "45713   17.66667  \n",
       "45714   41.50460  \n",
       "45715 -115.68333  \n",
       "\n",
       "[45716 rows x 7 columns]"
      ]
     },
     "execution_count": 612,
     "metadata": {},
     "output_type": "execute_result"
    }
   ],
   "source": [
    "df"
   ]
  },
  {
   "cell_type": "code",
   "execution_count": 613,
   "metadata": {},
   "outputs": [
    {
     "data": {
      "text/plain": [
       "466"
      ]
     },
     "execution_count": 613,
     "metadata": {},
     "output_type": "execute_result"
    }
   ],
   "source": [
    "len(df['recclass'].unique()) # number of classification names"
   ]
  },
  {
   "cell_type": "markdown",
   "metadata": {},
   "source": [
    "#### Classification of Meteorites"
   ]
  },
  {
   "cell_type": "markdown",
   "metadata": {},
   "source": [
    "There are [3 main types](https://en.wikipedia.org/wiki/Meteorite_classification#Rubin_classification) of meteorites: iron, stony-iron, and stony meteorites. Each of these 3 are also further classified into other names, as seen in the recclass column in the dataset. Since there are 462 unique classifications, I will regroup these names into 1 of 3 main meteorite types:\n",
    "\n",
    "Stony:\n",
    "- Carbonaceous chondrites: CI; CM; CR; CO; CV; CK; CH; Ungrouped Carbonaceous chondrite\n",
    "- Ordinary chondrites: H; L; LL; HH\n",
    "- Rumuruti chondrites: R\n",
    "- Kakangari chondrites: K\n",
    "- Enstatite chondrites: EH; EL; Ungrouped enstatite chondrites\n",
    "- IAB/IIICD silicate chondrites\n",
    "- Ungrouped chondrites\n",
    "- Primitive achondrites: Acapulcoites; Lodranites; Winonaites; Ungrouped primitive achondrites\n",
    "- Differentiated meteorites:\n",
    "- Asteroidal achondrites: Eucrites; Diogenites; Howardites; Angrites; Aubrites; Ureilites; Brachinites\n",
    "- Martian meteorites: Shergottites; Nakhlites; Chassigny; ALH 84001\n",
    "- Lunar meteorites: Mare basalts; Impact breccias\n",
    "\n",
    "Stony irons: \n",
    "- Pallasites\n",
    "- Mesosiderites\n",
    "- Ungrouped stony irons\n",
    "\n",
    "Irons:\n",
    "- Magmatic irons groups: IC; IIAB; IIC; IID; IIF; IIIAB; IIIE; IIIF; IVA; IVB\n",
    "- Nonmagmatic irons groups: IAB/IIICD; IIE\n",
    "- Ungrouped irons"
   ]
  },
  {
   "cell_type": "code",
   "execution_count": 614,
   "metadata": {},
   "outputs": [],
   "source": [
    "uniques = pd.DataFrame(df['recclass'].unique())\n",
    "# retreive classes with keyword 'iron\n",
    "iron = uniques[uniques[0].str.contains('Iron')]\n",
    "iron = pd.concat([iron, uniques[uniques[0].str.contains('iron')]])\n",
    "\n",
    "# retreive classes with keywords regarding stony irons\n",
    "stony_iron = uniques[uniques[0].str.contains('Pallasite')]\n",
    "stony_iron = pd.concat([stony_iron, uniques[uniques[0].str.contains('Mesosiderite')]])\n",
    "\n",
    "# dropping out irons and stony irons from the main dataset\n",
    "stone = uniques.drop(iron.index).drop(stony_iron.index)"
   ]
  },
  {
   "cell_type": "code",
   "execution_count": 615,
   "metadata": {},
   "outputs": [],
   "source": [
    "# renaming the names in recclass. WARNING: if cell is run twice, do a run-all. It messes up the variables of iron and stony iron.\n",
    "df['recclass'] = df['recclass'].replace(iron.values, 'Iron')\n",
    "df['recclass'] = df['recclass'].replace(stony_iron.values, 'Stony Iron')\n",
    "df['recclass'] = df['recclass'].replace(stone.values, 'Stone')"
   ]
  },
  {
   "cell_type": "code",
   "execution_count": 616,
   "metadata": {},
   "outputs": [
    {
     "data": {
      "text/plain": [
       "array(['Stone', 'Iron', 'Stony Iron'], dtype=object)"
      ]
     },
     "execution_count": 616,
     "metadata": {},
     "output_type": "execute_result"
    }
   ],
   "source": [
    "df['recclass'].unique() # checking the unique names"
   ]
  },
  {
   "cell_type": "markdown",
   "metadata": {},
   "source": [
    "A final filling of missing data will be done here on the year and mass columns based on each meteorite types. Median will be used to prevent outliers from effecting the value."
   ]
  },
  {
   "cell_type": "code",
   "execution_count": 617,
   "metadata": {},
   "outputs": [],
   "source": [
    "# get median for each type\n",
    "med_st = df[df['recclass'] == 'Stone']['year'].median()\n",
    "med_ir = df[df['recclass'] == 'Iron']['year'].median()\n",
    "med_si = df[df['recclass'] == 'Stony Iron']['year'].median()\n",
    "\n",
    "# fillna for each type\n",
    "df.loc[(df['recclass'] == 'Stone') & (df['year'].isna()), 'year'] = med_st\n",
    "df.loc[(df['recclass'] == 'Iron') & (df['year'].isna()), 'year'] = med_ir\n",
    "df.loc[(df['recclass'] == 'Stony Iron') & (df['year'].isna()), 'year'] = med_si"
   ]
  },
  {
   "cell_type": "code",
   "execution_count": 618,
   "metadata": {},
   "outputs": [],
   "source": [
    "mass_st = df[df['recclass'] == 'Stone']['mass (g)'].median()\n",
    "mass_ir = df[df['recclass'] == 'Iron']['mass (g)'].median()\n",
    "mass_si = df[df['recclass'] == 'Stony Iron']['mass (g)'].median()\n",
    "\n",
    "df.loc[(df['recclass'] == 'Stone') & (df['mass (g)'].isna()), 'mass (g)'] = med_st\n",
    "df.loc[(df['recclass'] == 'Iron') & (df['mass (g)'].isna()), 'mass (g)'] = med_ir\n",
    "df.loc[(df['recclass'] == 'Stony Iron') & (df['mass (g)'].isna()), 'mass (g)'] = med_si"
   ]
  },
  {
   "cell_type": "code",
   "execution_count": 619,
   "metadata": {},
   "outputs": [
    {
     "data": {
      "text/plain": [
       "name        0\n",
       "recclass    0\n",
       "mass (g)    0\n",
       "fall        0\n",
       "year        0\n",
       "reclat      0\n",
       "reclong     0\n",
       "dtype: int64"
      ]
     },
     "execution_count": 619,
     "metadata": {},
     "output_type": "execute_result"
    }
   ],
   "source": [
    "df.isna().sum()"
   ]
  },
  {
   "cell_type": "markdown",
   "metadata": {},
   "source": [
    "----"
   ]
  },
  {
   "cell_type": "markdown",
   "metadata": {},
   "source": [
    "#### **Data Exploration and Statistical Analysis: Proposal Reflection**"
   ]
  },
  {
   "cell_type": "code",
   "execution_count": 620,
   "metadata": {},
   "outputs": [
    {
     "data": {
      "image/png": "[encoded data removed]",
      "text/plain": [
       "<Figure size 432x288 with 3 Axes>"
      ]
     },
     "metadata": {
      "needs_background": "light"
     },
     "output_type": "display_data"
    }
   ],
   "source": [
    "fig, axes = plt.subplots(1, 3, tight_layout = True)\n",
    "sns.boxplot(ax = axes[0], data = df[df['recclass'] == 'Stone'], y = 'mass (g)')\n",
    "sns.boxplot(ax = axes[1], data = df[df['recclass'] == 'Iron'], y = 'mass (g)', color = 'g')\n",
    "sns.boxplot(ax = axes[2], data = df[df['recclass'] == 'Stony Iron'], y = 'mass (g)', color = 'r')\n",
    "\n",
    "axes[0].set_title('Stone')\n",
    "axes[1].set_title('Iron')\n",
    "axes[2].set_title('Stony Iron')\n",
    "plt.show()"
   ]
  },
  {
   "cell_type": "code",
   "execution_count": 621,
   "metadata": {},
   "outputs": [
    {
     "name": "stdout",
     "output_type": "stream",
     "text": [
      "\n",
      " Stone Median: 30.6 g\n",
      " Iron Media n: 8770.0 g\n",
      " Stony Iron Median: 500.0 g\n"
     ]
    },
    {
     "data": {
      "image/png": "[encoded data removed]",
      "text/plain": [
       "<Figure size 432x288 with 3 Axes>"
      ]
     },
     "metadata": {
      "needs_background": "light"
     },
     "output_type": "display_data"
    }
   ],
   "source": [
    "fig, axes = plt.subplots(1, 3, tight_layout = True)\n",
    "sns.boxplot(ax = axes[0], data = df[df['recclass'] == 'Stone'], y = 'mass (g)', showfliers = False)\n",
    "sns.boxplot(ax = axes[1], data = df[df['recclass'] == 'Iron'], y = 'mass (g)', showfliers = False, color = 'g')\n",
    "sns.boxplot(ax = axes[2], data = df[df['recclass'] == 'Stony Iron'], y = 'mass (g)', showfliers = False, color = 'r')\n",
    "\n",
    "axes[0].set_title('Stone')\n",
    "axes[1].set_title('Iron')\n",
    "axes[2].set_title('Stony Iron')\n",
    "\n",
    "st_med = df[df['recclass'] == 'Stone']['mass (g)'].median()\n",
    "ir_med = df[df['recclass'] == 'Iron']['mass (g)'].median()\n",
    "si_med = df[df['recclass'] == 'Stony Iron']['mass (g)'].median()\n",
    "\n",
    "print(f'\\n Stone Median: {st_med} g\\n Iron Media n: {ir_med} g\\n Stony Iron Median: {si_med} g')"
   ]
  },
  {
   "cell_type": "markdown",
   "metadata": {},
   "source": [
    "Here we can see the average mass (disregarding outliers) of each types of meteorites. It can be seen that iron meteorites are the heaviest, followed by stony iron, and then stone. This could be a potential use towards making a classification model of each type of meteorites."
   ]
  },
  {
   "cell_type": "markdown",
   "metadata": {},
   "source": [
    "----"
   ]
  },
  {
   "cell_type": "code",
   "execution_count": 622,
   "metadata": {},
   "outputs": [
    {
     "data": {
      "image/png": "[encoded data removed]",
      "text/plain": [
       "<Figure size 432x288 with 1 Axes>"
      ]
     },
     "metadata": {
      "needs_background": "light"
     },
     "output_type": "display_data"
    }
   ],
   "source": [
    "sns.scatterplot(x = df['reclong'], y = df['reclat'], alpha = 0.7, hue = df['recclass'])\n",
    "plt.show()"
   ]
  },
  {
   "cell_type": "markdown",
   "metadata": {},
   "source": [
    "The locations of the meteorites do not show any significant pattern, but could prove useful as a parameter in the model as well. By plotting a scatterplot of the geolocations, we are now able to see where in the globe a meteorite fell or is founded in. "
   ]
  },
  {
   "cell_type": "markdown",
   "metadata": {},
   "source": [
    "----"
   ]
  },
  {
   "cell_type": "code",
   "execution_count": 623,
   "metadata": {},
   "outputs": [],
   "source": [
    "# separating the years by type\n",
    "fallen_st = df[df['recclass'] == 'Stone']\n",
    "fallen_ir = df[df['recclass'] == 'Iron']\n",
    "fallen_si = df[df['recclass'] == 'Stony Iron']"
   ]
  },
  {
   "cell_type": "code",
   "execution_count": 624,
   "metadata": {},
   "outputs": [],
   "source": [
    "# counting the number of meteors in each year\n",
    "years_st = pd.DataFrame(fallen_st['year'].value_counts())\n",
    "years_ir = pd.DataFrame(fallen_ir['year'].value_counts())\n",
    "years_si = pd.DataFrame(fallen_si['year'].value_counts())"
   ]
  },
  {
   "cell_type": "code",
   "execution_count": 625,
   "metadata": {},
   "outputs": [
    {
     "data": {
      "image/png": "[encoded data removed]",
      "text/plain": [
       "<Figure size 432x288 with 1 Axes>"
      ]
     },
     "metadata": {
      "needs_background": "light"
     },
     "output_type": "display_data"
    },
    {
     "name": "stdout",
     "output_type": "stream",
     "text": [
      "Median: 1998.0\n"
     ]
    }
   ],
   "source": [
    "# plotting a histogram to see the distribution\n",
    "fig, ax = plt.subplots()\n",
    "fig.suptitle(\"Number of Stone Meteorites Fallen/Found Each Year\")\n",
    "ax.hist(fallen_st['year'], bins = 30, alpha = 0.5, color = 'green')\n",
    "ax.set(xlabel = 'Year', ylabel = \"Number of Meteors\")\n",
    "plt.show()\n",
    "print('Median:', fallen_st['year'].median())"
   ]
  },
  {
   "cell_type": "code",
   "execution_count": 626,
   "metadata": {},
   "outputs": [
    {
     "data": {
      "image/png": "[encoded data removed]",
      "text/plain": [
       "<Figure size 432x288 with 1 Axes>"
      ]
     },
     "metadata": {
      "needs_background": "light"
     },
     "output_type": "display_data"
    },
    {
     "name": "stdout",
     "output_type": "stream",
     "text": [
      "Median: 1941.0\n"
     ]
    }
   ],
   "source": [
    "fig, ax = plt.subplots()\n",
    "fig.suptitle(\"Number of Iron Meteorites Fallen/Found Each Year\")\n",
    "ax.hist(fallen_ir['year'], bins = 30, alpha = 0.5, color = 'red')\n",
    "ax.set(xlabel = 'Year', ylabel = \"Number of Meteors\")\n",
    "plt.show()\n",
    "print('Median:', fallen_ir['year'].median())"
   ]
  },
  {
   "cell_type": "code",
   "execution_count": 627,
   "metadata": {},
   "outputs": [
    {
     "data": {
      "image/png": "[encoded data removed]",
      "text/plain": [
       "<Figure size 432x288 with 1 Axes>"
      ]
     },
     "metadata": {
      "needs_background": "light"
     },
     "output_type": "display_data"
    },
    {
     "name": "stdout",
     "output_type": "stream",
     "text": [
      "Median: 2002.0\n"
     ]
    }
   ],
   "source": [
    "fig, ax = plt.subplots()\n",
    "fig.suptitle(\"Number of Stony Iron Meteorites Fallen/Found Each Year\")\n",
    "ax.hist(fallen_si['year'], bins = 30, alpha = 0.5, color = 'blue')\n",
    "ax.set(xlabel = 'Year', ylabel = \"Number of Meteors\")\n",
    "plt.show()\n",
    "print('Median:', fallen_si['year'].median())"
   ]
  },
  {
   "cell_type": "markdown",
   "metadata": {},
   "source": [
    "From above, iron meteorites are fallen/founded with the lowest average year of 1943. However, there is not that much of a difference between stone and stony iron meteorites. However, since the distribution and number of values are different, it could still prove beneficial towards the model."
   ]
  },
  {
   "cell_type": "markdown",
   "metadata": {},
   "source": [
    "----"
   ]
  },
  {
   "cell_type": "markdown",
   "metadata": {},
   "source": [
    "#### **Models**"
   ]
  },
  {
   "cell_type": "markdown",
   "metadata": {},
   "source": [
    "**Random Forest Model #1: Classification of Meteorites**"
   ]
  },
  {
   "cell_type": "code",
   "execution_count": 628,
   "metadata": {},
   "outputs": [],
   "source": [
    "from sklearn.ensemble import RandomForestClassifier\n",
    "from sklearn.metrics import accuracy_score, precision_recall_fscore_support\n",
    "from sklearn.model_selection import train_test_split\n",
    "from sklearn.metrics import confusion_matrix"
   ]
  },
  {
   "cell_type": "markdown",
   "metadata": {},
   "source": [
    "Get Independent Variables that will be used in the model"
   ]
  },
  {
   "cell_type": "code",
   "execution_count": 629,
   "metadata": {},
   "outputs": [
    {
     "data": {
      "text/html": [
       "<div>\n",
       "<style scoped>\n",
       "    .dataframe tbody tr th:only-of-type {\n",
       "        vertical-align: middle;\n",
       "    }\n",
       "\n",
       "    .dataframe tbody tr th {\n",
       "        vertical-align: top;\n",
       "    }\n",
       "\n",
       "    .dataframe thead th {\n",
       "        text-align: right;\n",
       "    }\n",
       "</style>\n",
       "<table border=\"1\" class=\"dataframe\">\n",
       "  <thead>\n",
       "    <tr style=\"text-align: right;\">\n",
       "      <th></th>\n",
       "      <th>mass (g)</th>\n",
       "      <th>reclat</th>\n",
       "      <th>reclong</th>\n",
       "      <th>fell</th>\n",
       "      <th>year</th>\n",
       "    </tr>\n",
       "  </thead>\n",
       "  <tbody>\n",
       "    <tr>\n",
       "      <th>0</th>\n",
       "      <td>21.0</td>\n",
       "      <td>50.77500</td>\n",
       "      <td>6.08333</td>\n",
       "      <td>1</td>\n",
       "      <td>1880.0</td>\n",
       "    </tr>\n",
       "    <tr>\n",
       "      <th>1</th>\n",
       "      <td>720.0</td>\n",
       "      <td>56.18333</td>\n",
       "      <td>10.23333</td>\n",
       "      <td>1</td>\n",
       "      <td>1951.0</td>\n",
       "    </tr>\n",
       "    <tr>\n",
       "      <th>2</th>\n",
       "      <td>107000.0</td>\n",
       "      <td>54.21667</td>\n",
       "      <td>-113.00000</td>\n",
       "      <td>1</td>\n",
       "      <td>1952.0</td>\n",
       "    </tr>\n",
       "    <tr>\n",
       "      <th>3</th>\n",
       "      <td>1914.0</td>\n",
       "      <td>16.88333</td>\n",
       "      <td>-99.90000</td>\n",
       "      <td>1</td>\n",
       "      <td>1976.0</td>\n",
       "    </tr>\n",
       "    <tr>\n",
       "      <th>4</th>\n",
       "      <td>780.0</td>\n",
       "      <td>-33.16667</td>\n",
       "      <td>-64.95000</td>\n",
       "      <td>1</td>\n",
       "      <td>1902.0</td>\n",
       "    </tr>\n",
       "    <tr>\n",
       "      <th>...</th>\n",
       "      <td>...</td>\n",
       "      <td>...</td>\n",
       "      <td>...</td>\n",
       "      <td>...</td>\n",
       "      <td>...</td>\n",
       "    </tr>\n",
       "    <tr>\n",
       "      <th>45711</th>\n",
       "      <td>172.0</td>\n",
       "      <td>29.03700</td>\n",
       "      <td>17.01850</td>\n",
       "      <td>0</td>\n",
       "      <td>1990.0</td>\n",
       "    </tr>\n",
       "    <tr>\n",
       "      <th>45712</th>\n",
       "      <td>46.0</td>\n",
       "      <td>13.78333</td>\n",
       "      <td>8.96667</td>\n",
       "      <td>0</td>\n",
       "      <td>1999.0</td>\n",
       "    </tr>\n",
       "    <tr>\n",
       "      <th>45713</th>\n",
       "      <td>3.3</td>\n",
       "      <td>49.25000</td>\n",
       "      <td>17.66667</td>\n",
       "      <td>0</td>\n",
       "      <td>1939.0</td>\n",
       "    </tr>\n",
       "    <tr>\n",
       "      <th>45714</th>\n",
       "      <td>2167.0</td>\n",
       "      <td>49.78917</td>\n",
       "      <td>41.50460</td>\n",
       "      <td>0</td>\n",
       "      <td>2003.0</td>\n",
       "    </tr>\n",
       "    <tr>\n",
       "      <th>45715</th>\n",
       "      <td>200.0</td>\n",
       "      <td>33.98333</td>\n",
       "      <td>-115.68333</td>\n",
       "      <td>0</td>\n",
       "      <td>1976.0</td>\n",
       "    </tr>\n",
       "  </tbody>\n",
       "</table>\n",
       "<p>45716 rows × 5 columns</p>\n",
       "</div>"
      ],
      "text/plain": [
       "       mass (g)    reclat    reclong  fell    year\n",
       "0          21.0  50.77500    6.08333     1  1880.0\n",
       "1         720.0  56.18333   10.23333     1  1951.0\n",
       "2      107000.0  54.21667 -113.00000     1  1952.0\n",
       "3        1914.0  16.88333  -99.90000     1  1976.0\n",
       "4         780.0 -33.16667  -64.95000     1  1902.0\n",
       "...         ...       ...        ...   ...     ...\n",
       "45711     172.0  29.03700   17.01850     0  1990.0\n",
       "45712      46.0  13.78333    8.96667     0  1999.0\n",
       "45713       3.3  49.25000   17.66667     0  1939.0\n",
       "45714    2167.0  49.78917   41.50460     0  2003.0\n",
       "45715     200.0  33.98333 -115.68333     0  1976.0\n",
       "\n",
       "[45716 rows x 5 columns]"
      ]
     },
     "execution_count": 629,
     "metadata": {},
     "output_type": "execute_result"
    }
   ],
   "source": [
    "fell = pd.get_dummies(df['fall']).drop(columns = 'Found')\n",
    "\n",
    "x = pd.DataFrame(df['mass (g)'])\n",
    "x['reclat'] = df['reclat']\n",
    "x['reclong'] = df['reclong']\n",
    "x['fell'] = fell\n",
    "x['year'] = df['year']\n",
    "x"
   ]
  },
  {
   "cell_type": "markdown",
   "metadata": {},
   "source": [
    "Get y Variables for Training"
   ]
  },
  {
   "cell_type": "code",
   "execution_count": 630,
   "metadata": {},
   "outputs": [
    {
     "data": {
      "text/plain": [
       "0             Stone\n",
       "1             Stone\n",
       "2             Stone\n",
       "3             Stone\n",
       "4             Stone\n",
       "            ...    \n",
       "45711         Stone\n",
       "45712    Stony Iron\n",
       "45713         Stone\n",
       "45714         Stone\n",
       "45715         Stone\n",
       "Name: recclass, Length: 45716, dtype: object"
      ]
     },
     "execution_count": 630,
     "metadata": {},
     "output_type": "execute_result"
    }
   ],
   "source": [
    "y = df.recclass\n",
    "y"
   ]
  },
  {
   "cell_type": "code",
   "execution_count": 631,
   "metadata": {},
   "outputs": [],
   "source": [
    "# split train-test\n",
    "xtrain, xtest, ytrain, ytest = train_test_split(x, y, test_size = 0.3, random_state = 10)"
   ]
  },
  {
   "cell_type": "code",
   "execution_count": 632,
   "metadata": {},
   "outputs": [
    {
     "name": "stdout",
     "output_type": "stream",
     "text": [
      "Feature: 0, Score: 0.33853\n",
      "Feature: 1, Score: 0.17290\n",
      "Feature: 2, Score: 0.18801\n",
      "Feature: 3, Score: 0.06522\n",
      "Feature: 4, Score: 0.23533\n"
     ]
    },
    {
     "data": {
      "image/png": "[encoded data removed]",
      "text/plain": [
       "<Figure size 432x288 with 1 Axes>"
      ]
     },
     "metadata": {
      "needs_background": "light"
     },
     "output_type": "display_data"
    }
   ],
   "source": [
    "# fitting random forest model with tree size of 100\n",
    "rf_model = RandomForestClassifier(n_estimators=100)\n",
    "_ = rf_model.fit(xtrain, ytrain)\n",
    "\n",
    "# get importance to see which variables are most important when evaluating\n",
    "importance = rf_model.feature_importances_\n",
    "\n",
    "# summarize feature importance\n",
    "for i,v in enumerate(importance):\n",
    " print('Feature: %0d, Score: %.5f' % (i,v))\n",
    "\n",
    "# plot feature importance\n",
    "plt.bar([x for x in range(len(importance))], importance)\n",
    "plt.show()"
   ]
  },
  {
   "cell_type": "markdown",
   "metadata": {},
   "source": [
    "Since the fell column is not significant, it will be removed in further models."
   ]
  },
  {
   "cell_type": "markdown",
   "metadata": {},
   "source": [
    "Confusion Matrix for Visualization"
   ]
  },
  {
   "cell_type": "code",
   "execution_count": 633,
   "metadata": {},
   "outputs": [
    {
     "data": {
      "image/png": "[encoded data removed]",
      "text/plain": [
       "<Figure size 432x288 with 2 Axes>"
      ]
     },
     "metadata": {
      "needs_background": "light"
     },
     "output_type": "display_data"
    }
   ],
   "source": [
    "# plotting confusion matrix\n",
    "cm = confusion_matrix(ytest, rf_model.predict(xtest))\n",
    "\n",
    "labels = ['Iron', 'Stone', 'Stony Iron']\n",
    "sns.heatmap(cm, annot = True, fmt = 'd', linewidths = 0.5, xticklabels = labels, yticklabels = labels)\n",
    "plt.title('Confusion matrix of the classifier')\n",
    "plt.xlabel('Predicted')\n",
    "plt.ylabel('True')\n",
    "plt.show()"
   ]
  },
  {
   "cell_type": "markdown",
   "metadata": {},
   "source": [
    "Evaluating Test Scores"
   ]
  },
  {
   "cell_type": "code",
   "execution_count": 634,
   "metadata": {},
   "outputs": [
    {
     "name": "stdout",
     "output_type": "stream",
     "text": [
      "Accuracy: 0.9779803135253372\n"
     ]
    },
    {
     "data": {
      "text/plain": [
       "(array([0.68320611, 0.9840762 , 0.64285714]),\n",
       " array([0.53432836, 0.99428614, 0.11392405]),\n",
       " array([0.59966499, 0.98915482, 0.19354839]),\n",
       " array([  335, 13301,    79], dtype=int64))"
      ]
     },
     "execution_count": 634,
     "metadata": {},
     "output_type": "execute_result"
    }
   ],
   "source": [
    "yhat_test = rf_model.predict(xtest)\n",
    "print(f'Accuracy: {accuracy_score(ytest, yhat_test)}')\n",
    "precision_recall_fscore_support(ytest, yhat_test)"
   ]
  },
  {
   "cell_type": "markdown",
   "metadata": {},
   "source": [
    "The model is able to distinguish stone from the other, but fails to do so for iron and stony iron. It could also be possible that since there is so much more stone meteorites, it outweighs the other two types which causes a bad yield on the other two. Now let's try a model without stones."
   ]
  },
  {
   "cell_type": "markdown",
   "metadata": {},
   "source": [
    "----"
   ]
  },
  {
   "cell_type": "markdown",
   "metadata": {},
   "source": [
    "**Random Forest Model #2: Classifying Stony Iron and Iron Meteorites**"
   ]
  },
  {
   "cell_type": "code",
   "execution_count": 635,
   "metadata": {},
   "outputs": [],
   "source": [
    "df2 = pd.concat([df[df['recclass'] == 'Stony Iron'], df[df['recclass'] == 'Iron']])"
   ]
  },
  {
   "cell_type": "markdown",
   "metadata": {},
   "source": [
    "Get Independent Variables"
   ]
  },
  {
   "cell_type": "code",
   "execution_count": 636,
   "metadata": {},
   "outputs": [],
   "source": [
    "x2 = pd.DataFrame(df2['mass (g)'])\n",
    "x2['reclat'] = df2['reclat']\n",
    "x2['reclong'] = df2['reclong']\n",
    "x2['year'] = df2['year']"
   ]
  },
  {
   "cell_type": "markdown",
   "metadata": {},
   "source": [
    "Get y Variable for Testing"
   ]
  },
  {
   "cell_type": "code",
   "execution_count": 637,
   "metadata": {},
   "outputs": [],
   "source": [
    "y2 = df2.recclass"
   ]
  },
  {
   "cell_type": "code",
   "execution_count": 638,
   "metadata": {},
   "outputs": [],
   "source": [
    "# split train-test\n",
    "xtrain2, xtest2, ytrain2, ytest2 = train_test_split(x2, y2, test_size = 0.3, random_state = 5)\n",
    "\n",
    "# fit model\n",
    "rf_model2 = RandomForestClassifier(n_estimators=100)\n",
    "_ = rf_model2.fit(xtrain2, ytrain2)"
   ]
  },
  {
   "cell_type": "markdown",
   "metadata": {},
   "source": [
    "Confusion Matrix for Evaluation"
   ]
  },
  {
   "cell_type": "code",
   "execution_count": 639,
   "metadata": {},
   "outputs": [
    {
     "data": {
      "image/png": "[encoded data removed]",
      "text/plain": [
       "<Figure size 432x288 with 2 Axes>"
      ]
     },
     "metadata": {
      "needs_background": "light"
     },
     "output_type": "display_data"
    }
   ],
   "source": [
    "# plotting confusion matrix\n",
    "cm2 = confusion_matrix(ytest2, rf_model2.predict(xtest2))\n",
    "\n",
    "labels2 = ['Iron', 'Stony Iron']\n",
    "sns.heatmap(cm2, annot = True, fmt = 'd', linewidths = 0.5, xticklabels = labels2, yticklabels = labels2)\n",
    "plt.title('Confusion matrix of the classifier')\n",
    "plt.xlabel('Predicted')\n",
    "plt.ylabel('True')\n",
    "plt.show()"
   ]
  },
  {
   "cell_type": "markdown",
   "metadata": {},
   "source": [
    "Evaluating Scores"
   ]
  },
  {
   "cell_type": "code",
   "execution_count": 640,
   "metadata": {},
   "outputs": [
    {
     "name": "stdout",
     "output_type": "stream",
     "text": [
      "Accuracy: 0.9014778325123153\n"
     ]
    },
    {
     "data": {
      "text/plain": [
       "(array([0.93043478, 0.73770492]),\n",
       " array([0.95252226, 0.65217391]),\n",
       " array([0.94134897, 0.69230769]),\n",
       " array([337,  69], dtype=int64))"
      ]
     },
     "execution_count": 640,
     "metadata": {},
     "output_type": "execute_result"
    }
   ],
   "source": [
    "yhat_test2 = rf_model2.predict(xtest2)\n",
    "print(f'Accuracy: {accuracy_score(ytest2, yhat_test2)}')\n",
    "precision_recall_fscore_support(ytest2, yhat_test2)"
   ]
  },
  {
   "cell_type": "markdown",
   "metadata": {},
   "source": [
    "According to the model above, by removing stone meteorites, the model was able to perform much better on distinguishing 2 types. Iron class has very high scores over 0.90, while stony irons has 0.8, 0.61, and 0.69 for precision, recall, and f1, respectively."
   ]
  },
  {
   "cell_type": "markdown",
   "metadata": {},
   "source": [
    "----"
   ]
  },
  {
   "cell_type": "markdown",
   "metadata": {},
   "source": [
    "**Random Forest Model #3: Classifying Stone and Iron Meteorites**"
   ]
  },
  {
   "cell_type": "markdown",
   "metadata": {},
   "source": [
    "For additional information, I will be creating a model between iron and stone meteorites as well as the model tend to perform well to distinguish these two types."
   ]
  },
  {
   "cell_type": "code",
   "execution_count": 641,
   "metadata": {},
   "outputs": [],
   "source": [
    "df3 = pd.concat([df[df['recclass'] == 'Stone'], df[df['recclass'] == 'Iron']])"
   ]
  },
  {
   "cell_type": "code",
   "execution_count": 642,
   "metadata": {},
   "outputs": [],
   "source": [
    "x3 = pd.DataFrame(df3['mass (g)'])\n",
    "x3['reclat'] = df3['reclat']\n",
    "x3['reclong'] = df3['reclong']\n",
    "x3['year'] = df3['year']"
   ]
  },
  {
   "cell_type": "code",
   "execution_count": 643,
   "metadata": {},
   "outputs": [],
   "source": [
    "y3 = df3.recclass"
   ]
  },
  {
   "cell_type": "code",
   "execution_count": 644,
   "metadata": {},
   "outputs": [],
   "source": [
    "# split train-test\n",
    "xtrain3, xtest3, ytrain3, ytest3 = train_test_split(x3, y3, test_size = 0.3, random_state = 100)\n",
    "\n",
    "# fit model\n",
    "rf_model3 = RandomForestClassifier(n_estimators=100, class_weight = \"balanced\") \n",
    "_ = rf_model3.fit(xtrain3, ytrain3)"
   ]
  },
  {
   "cell_type": "code",
   "execution_count": 645,
   "metadata": {},
   "outputs": [
    {
     "data": {
      "image/png": "[encoded data removed]",
      "text/plain": [
       "<Figure size 432x288 with 2 Axes>"
      ]
     },
     "metadata": {
      "needs_background": "light"
     },
     "output_type": "display_data"
    }
   ],
   "source": [
    "# plotting confusion matrix\n",
    "cm3 = confusion_matrix(ytest3, rf_model3.predict(xtest3))\n",
    "\n",
    "labels3 = ['Iron', 'Stone']\n",
    "sns.heatmap(cm3, annot = True, fmt = 'd', linewidths = 0.5, xticklabels = labels3, yticklabels = labels3)\n",
    "plt.title('Confusion matrix of the classifier')\n",
    "plt.xlabel('Predicted')\n",
    "plt.ylabel('True')\n",
    "plt.show()"
   ]
  },
  {
   "cell_type": "code",
   "execution_count": 646,
   "metadata": {},
   "outputs": [
    {
     "name": "stdout",
     "output_type": "stream",
     "text": [
      "Accuracy: 0.9810725552050473\n"
     ]
    },
    {
     "data": {
      "text/plain": [
       "(array([0.62886598, 0.98615762]),\n",
       " array([0.3961039 , 0.99459581]),\n",
       " array([0.48605578, 0.99035874]),\n",
       " array([  308, 13323], dtype=int64))"
      ]
     },
     "execution_count": 646,
     "metadata": {},
     "output_type": "execute_result"
    }
   ],
   "source": [
    "yhat_test3 = rf_model3.predict(xtest3)\n",
    "print(f'Accuracy: {accuracy_score(ytest3, yhat_test3)}')\n",
    "precision_recall_fscore_support(ytest3, yhat_test3)"
   ]
  },
  {
   "cell_type": "markdown",
   "metadata": {},
   "source": [
    "Like above, the model is only able to fit the stone meteorites really well due to the number of data values. Hence, the weighted parameter will be added, and outliers will be removed."
   ]
  },
  {
   "cell_type": "markdown",
   "metadata": {},
   "source": [
    "----\n",
    "**Random Forest Model #4: Classifying Meteorites without Outliers with Weighted Parameters**\n",
    "\n",
    "Now, let's try removing outliers manually for each types of meteorites by computing for the IQR and removing values that falls outside of it."
   ]
  },
  {
   "cell_type": "code",
   "execution_count": 647,
   "metadata": {},
   "outputs": [],
   "source": [
    "# stones\n",
    "stone_sub = df[df['recclass'] == 'Stone']\n",
    "iron_sub = df[df['recclass'] == 'Iron']\n",
    "stonyiron_sub = df[df['recclass'] == 'Stony Iron']\n",
    "\n",
    "# calculate IQR\n",
    "stone_IQR = stone_sub['mass (g)'].quantile(0.75) - stone_sub['mass (g)'].quantile(0.25)\n",
    "iron_IQR = iron_sub['mass (g)'].quantile(0.75) - iron_sub['mass (g)'].quantile(0.25)\n",
    "stonyiron_IQR = stonyiron_sub['mass (g)'].quantile(0.75) - stonyiron_sub['mass (g)'].quantile(0.25)\n",
    "\n",
    "# get outliers\n",
    "stone_outliers = stone_sub.loc[(stone_sub['mass (g)'] < (stone_sub['mass (g)'].quantile(0.25) - 1.5 * stone_IQR)) | (df['mass (g)'] > (stone_sub['mass (g)'].quantile(0.75) + 1.5 * stone_IQR))]\n",
    "iron_outliers = iron_sub.loc[(iron_sub['mass (g)'] < (iron_sub['mass (g)'].quantile(0.25) - 1.5 * iron_IQR)) | (df['mass (g)'] > (iron_sub['mass (g)'].quantile(0.75) + 1.5 * iron_IQR))]\n",
    "stonyiron_outliers = stonyiron_sub.loc[(stonyiron_sub['mass (g)'] < (stonyiron_sub['mass (g)'].quantile(0.25) - 1.5 * stonyiron_IQR)) | (df['mass (g)'] > (stonyiron_sub['mass (g)'].quantile(0.75) + 1.5 * stonyiron_IQR))]"
   ]
  },
  {
   "cell_type": "code",
   "execution_count": 648,
   "metadata": {},
   "outputs": [
    {
     "data": {
      "text/html": [
       "<div>\n",
       "<style scoped>\n",
       "    .dataframe tbody tr th:only-of-type {\n",
       "        vertical-align: middle;\n",
       "    }\n",
       "\n",
       "    .dataframe tbody tr th {\n",
       "        vertical-align: top;\n",
       "    }\n",
       "\n",
       "    .dataframe thead th {\n",
       "        text-align: right;\n",
       "    }\n",
       "</style>\n",
       "<table border=\"1\" class=\"dataframe\">\n",
       "  <thead>\n",
       "    <tr style=\"text-align: right;\">\n",
       "      <th></th>\n",
       "      <th>name</th>\n",
       "      <th>recclass</th>\n",
       "      <th>mass (g)</th>\n",
       "      <th>fall</th>\n",
       "      <th>year</th>\n",
       "      <th>reclat</th>\n",
       "      <th>reclong</th>\n",
       "    </tr>\n",
       "  </thead>\n",
       "  <tbody>\n",
       "    <tr>\n",
       "      <th>0</th>\n",
       "      <td>Aachen</td>\n",
       "      <td>Stone</td>\n",
       "      <td>21.0</td>\n",
       "      <td>Fell</td>\n",
       "      <td>1880.0</td>\n",
       "      <td>50.77500</td>\n",
       "      <td>6.08333</td>\n",
       "    </tr>\n",
       "    <tr>\n",
       "      <th>16</th>\n",
       "      <td>Akyumak</td>\n",
       "      <td>Iron</td>\n",
       "      <td>50000.0</td>\n",
       "      <td>Fell</td>\n",
       "      <td>1981.0</td>\n",
       "      <td>39.91667</td>\n",
       "      <td>42.81667</td>\n",
       "    </tr>\n",
       "    <tr>\n",
       "      <th>17</th>\n",
       "      <td>Al Rais</td>\n",
       "      <td>Stone</td>\n",
       "      <td>160.0</td>\n",
       "      <td>Fell</td>\n",
       "      <td>1957.0</td>\n",
       "      <td>24.41667</td>\n",
       "      <td>39.51667</td>\n",
       "    </tr>\n",
       "    <tr>\n",
       "      <th>22</th>\n",
       "      <td>Alby sur Chéran</td>\n",
       "      <td>Stone</td>\n",
       "      <td>252.0</td>\n",
       "      <td>Fell</td>\n",
       "      <td>2002.0</td>\n",
       "      <td>45.82133</td>\n",
       "      <td>6.01533</td>\n",
       "    </tr>\n",
       "    <tr>\n",
       "      <th>37</th>\n",
       "      <td>Northwest Africa 5815</td>\n",
       "      <td>Stone</td>\n",
       "      <td>256.8</td>\n",
       "      <td>Found</td>\n",
       "      <td>1998.0</td>\n",
       "      <td>0.00000</td>\n",
       "      <td>0.00000</td>\n",
       "    </tr>\n",
       "    <tr>\n",
       "      <th>...</th>\n",
       "      <td>...</td>\n",
       "      <td>...</td>\n",
       "      <td>...</td>\n",
       "      <td>...</td>\n",
       "      <td>...</td>\n",
       "      <td>...</td>\n",
       "      <td>...</td>\n",
       "    </tr>\n",
       "    <tr>\n",
       "      <th>45709</th>\n",
       "      <td>Zhongxiang</td>\n",
       "      <td>Iron</td>\n",
       "      <td>100000.0</td>\n",
       "      <td>Found</td>\n",
       "      <td>1981.0</td>\n",
       "      <td>31.20000</td>\n",
       "      <td>112.50000</td>\n",
       "    </tr>\n",
       "    <tr>\n",
       "      <th>45711</th>\n",
       "      <td>Zillah 002</td>\n",
       "      <td>Stone</td>\n",
       "      <td>172.0</td>\n",
       "      <td>Found</td>\n",
       "      <td>1990.0</td>\n",
       "      <td>29.03700</td>\n",
       "      <td>17.01850</td>\n",
       "    </tr>\n",
       "    <tr>\n",
       "      <th>45712</th>\n",
       "      <td>Zinder</td>\n",
       "      <td>Stony Iron</td>\n",
       "      <td>46.0</td>\n",
       "      <td>Found</td>\n",
       "      <td>1999.0</td>\n",
       "      <td>13.78333</td>\n",
       "      <td>8.96667</td>\n",
       "    </tr>\n",
       "    <tr>\n",
       "      <th>45713</th>\n",
       "      <td>Zlin</td>\n",
       "      <td>Stone</td>\n",
       "      <td>3.3</td>\n",
       "      <td>Found</td>\n",
       "      <td>1939.0</td>\n",
       "      <td>49.25000</td>\n",
       "      <td>17.66667</td>\n",
       "    </tr>\n",
       "    <tr>\n",
       "      <th>45715</th>\n",
       "      <td>Zulu Queen</td>\n",
       "      <td>Stone</td>\n",
       "      <td>200.0</td>\n",
       "      <td>Found</td>\n",
       "      <td>1976.0</td>\n",
       "      <td>33.98333</td>\n",
       "      <td>-115.68333</td>\n",
       "    </tr>\n",
       "  </tbody>\n",
       "</table>\n",
       "<p>38808 rows × 7 columns</p>\n",
       "</div>"
      ],
      "text/plain": [
       "                        name    recclass  mass (g)   fall    year    reclat  \\\n",
       "0                     Aachen       Stone      21.0   Fell  1880.0  50.77500   \n",
       "16                   Akyumak        Iron   50000.0   Fell  1981.0  39.91667   \n",
       "17                   Al Rais       Stone     160.0   Fell  1957.0  24.41667   \n",
       "22           Alby sur Chéran       Stone     252.0   Fell  2002.0  45.82133   \n",
       "37     Northwest Africa 5815       Stone     256.8  Found  1998.0   0.00000   \n",
       "...                      ...         ...       ...    ...     ...       ...   \n",
       "45709             Zhongxiang        Iron  100000.0  Found  1981.0  31.20000   \n",
       "45711             Zillah 002       Stone     172.0  Found  1990.0  29.03700   \n",
       "45712                 Zinder  Stony Iron      46.0  Found  1999.0  13.78333   \n",
       "45713                   Zlin       Stone       3.3  Found  1939.0  49.25000   \n",
       "45715             Zulu Queen       Stone     200.0  Found  1976.0  33.98333   \n",
       "\n",
       "         reclong  \n",
       "0        6.08333  \n",
       "16      42.81667  \n",
       "17      39.51667  \n",
       "22       6.01533  \n",
       "37       0.00000  \n",
       "...          ...  \n",
       "45709  112.50000  \n",
       "45711   17.01850  \n",
       "45712    8.96667  \n",
       "45713   17.66667  \n",
       "45715 -115.68333  \n",
       "\n",
       "[38808 rows x 7 columns]"
      ]
     },
     "execution_count": 648,
     "metadata": {},
     "output_type": "execute_result"
    }
   ],
   "source": [
    "# get new dataframe\n",
    "df_no_outliers = df.drop(stone_outliers.index).drop(iron_outliers.index).drop(stonyiron_outliers.index)\n",
    "df_no_outliers"
   ]
  },
  {
   "cell_type": "code",
   "execution_count": 649,
   "metadata": {},
   "outputs": [
    {
     "data": {
      "text/html": [
       "<div>\n",
       "<style scoped>\n",
       "    .dataframe tbody tr th:only-of-type {\n",
       "        vertical-align: middle;\n",
       "    }\n",
       "\n",
       "    .dataframe tbody tr th {\n",
       "        vertical-align: top;\n",
       "    }\n",
       "\n",
       "    .dataframe thead th {\n",
       "        text-align: right;\n",
       "    }\n",
       "</style>\n",
       "<table border=\"1\" class=\"dataframe\">\n",
       "  <thead>\n",
       "    <tr style=\"text-align: right;\">\n",
       "      <th></th>\n",
       "      <th>mass (g)</th>\n",
       "      <th>reclat</th>\n",
       "      <th>reclong</th>\n",
       "      <th>year</th>\n",
       "    </tr>\n",
       "  </thead>\n",
       "  <tbody>\n",
       "    <tr>\n",
       "      <th>0</th>\n",
       "      <td>21.0</td>\n",
       "      <td>50.77500</td>\n",
       "      <td>6.08333</td>\n",
       "      <td>1880.0</td>\n",
       "    </tr>\n",
       "    <tr>\n",
       "      <th>16</th>\n",
       "      <td>50000.0</td>\n",
       "      <td>39.91667</td>\n",
       "      <td>42.81667</td>\n",
       "      <td>1981.0</td>\n",
       "    </tr>\n",
       "    <tr>\n",
       "      <th>17</th>\n",
       "      <td>160.0</td>\n",
       "      <td>24.41667</td>\n",
       "      <td>39.51667</td>\n",
       "      <td>1957.0</td>\n",
       "    </tr>\n",
       "    <tr>\n",
       "      <th>22</th>\n",
       "      <td>252.0</td>\n",
       "      <td>45.82133</td>\n",
       "      <td>6.01533</td>\n",
       "      <td>2002.0</td>\n",
       "    </tr>\n",
       "    <tr>\n",
       "      <th>37</th>\n",
       "      <td>256.8</td>\n",
       "      <td>0.00000</td>\n",
       "      <td>0.00000</td>\n",
       "      <td>1998.0</td>\n",
       "    </tr>\n",
       "    <tr>\n",
       "      <th>...</th>\n",
       "      <td>...</td>\n",
       "      <td>...</td>\n",
       "      <td>...</td>\n",
       "      <td>...</td>\n",
       "    </tr>\n",
       "    <tr>\n",
       "      <th>45709</th>\n",
       "      <td>100000.0</td>\n",
       "      <td>31.20000</td>\n",
       "      <td>112.50000</td>\n",
       "      <td>1981.0</td>\n",
       "    </tr>\n",
       "    <tr>\n",
       "      <th>45711</th>\n",
       "      <td>172.0</td>\n",
       "      <td>29.03700</td>\n",
       "      <td>17.01850</td>\n",
       "      <td>1990.0</td>\n",
       "    </tr>\n",
       "    <tr>\n",
       "      <th>45712</th>\n",
       "      <td>46.0</td>\n",
       "      <td>13.78333</td>\n",
       "      <td>8.96667</td>\n",
       "      <td>1999.0</td>\n",
       "    </tr>\n",
       "    <tr>\n",
       "      <th>45713</th>\n",
       "      <td>3.3</td>\n",
       "      <td>49.25000</td>\n",
       "      <td>17.66667</td>\n",
       "      <td>1939.0</td>\n",
       "    </tr>\n",
       "    <tr>\n",
       "      <th>45715</th>\n",
       "      <td>200.0</td>\n",
       "      <td>33.98333</td>\n",
       "      <td>-115.68333</td>\n",
       "      <td>1976.0</td>\n",
       "    </tr>\n",
       "  </tbody>\n",
       "</table>\n",
       "<p>38808 rows × 4 columns</p>\n",
       "</div>"
      ],
      "text/plain": [
       "       mass (g)    reclat    reclong    year\n",
       "0          21.0  50.77500    6.08333  1880.0\n",
       "16      50000.0  39.91667   42.81667  1981.0\n",
       "17        160.0  24.41667   39.51667  1957.0\n",
       "22        252.0  45.82133    6.01533  2002.0\n",
       "37        256.8   0.00000    0.00000  1998.0\n",
       "...         ...       ...        ...     ...\n",
       "45709  100000.0  31.20000  112.50000  1981.0\n",
       "45711     172.0  29.03700   17.01850  1990.0\n",
       "45712      46.0  13.78333    8.96667  1999.0\n",
       "45713       3.3  49.25000   17.66667  1939.0\n",
       "45715     200.0  33.98333 -115.68333  1976.0\n",
       "\n",
       "[38808 rows x 4 columns]"
      ]
     },
     "execution_count": 649,
     "metadata": {},
     "output_type": "execute_result"
    }
   ],
   "source": [
    "x4 = pd.DataFrame(df_no_outliers['mass (g)'])\n",
    "x4['reclat'] = df_no_outliers['reclat']\n",
    "x4['reclong'] = df_no_outliers['reclong']\n",
    "x4['year'] = df_no_outliers['year']\n",
    "x4"
   ]
  },
  {
   "cell_type": "code",
   "execution_count": 650,
   "metadata": {},
   "outputs": [],
   "source": [
    "y4 = df_no_outliers.recclass"
   ]
  },
  {
   "cell_type": "code",
   "execution_count": 651,
   "metadata": {},
   "outputs": [],
   "source": [
    "# split train-test\n",
    "xtrain4, xtest4, ytrain4, ytest4 = train_test_split(x4, y4, test_size = 0.3, random_state = 10)"
   ]
  },
  {
   "cell_type": "code",
   "execution_count": 652,
   "metadata": {},
   "outputs": [],
   "source": [
    "# fitting random forest model with tree size of 100\n",
    "rf_model4 = RandomForestClassifier(n_estimators=100, class_weight='balanced')\n",
    "_ = rf_model4.fit(xtrain4, ytrain4)"
   ]
  },
  {
   "cell_type": "code",
   "execution_count": 653,
   "metadata": {},
   "outputs": [
    {
     "data": {
      "image/png": "[encoded data removed]",
      "text/plain": [
       "<Figure size 432x288 with 2 Axes>"
      ]
     },
     "metadata": {
      "needs_background": "light"
     },
     "output_type": "display_data"
    }
   ],
   "source": [
    "# plotting confusion matrix\n",
    "cm4 = confusion_matrix(ytest4, rf_model4.predict(xtest4))\n",
    "\n",
    "labels4 = ['Iron', 'Stone', 'Stony Iron']\n",
    "sns.heatmap(cm4, annot = True, fmt = 'd', linewidths = 0.5, xticklabels = labels4, yticklabels = labels4)\n",
    "plt.title('Confusion matrix of the classifier')\n",
    "plt.xlabel('Predicted')\n",
    "plt.ylabel('True')\n",
    "plt.show()"
   ]
  },
  {
   "cell_type": "code",
   "execution_count": 654,
   "metadata": {},
   "outputs": [
    {
     "name": "stdout",
     "output_type": "stream",
     "text": [
      "Accuracy: 0.9873743880443184\n"
     ]
    },
    {
     "data": {
      "text/plain": [
       "(array([0.86547085, 0.99156637, 0.43243243]),\n",
       " array([0.75984252, 0.99690867, 0.23880597]),\n",
       " array([0.80922432, 0.99423035, 0.30769231]),\n",
       " array([  254, 11322,    67], dtype=int64))"
      ]
     },
     "execution_count": 654,
     "metadata": {},
     "output_type": "execute_result"
    }
   ],
   "source": [
    "yhat_test4 = rf_model4.predict(xtest4)\n",
    "print(f'Accuracy: {accuracy_score(ytest4, yhat_test4)}')\n",
    "precision_recall_fscore_support(ytest4, yhat_test4)"
   ]
  },
  {
   "cell_type": "markdown",
   "metadata": {},
   "source": [
    "By removing the outliers, the scores for the other 2 types were able to improve. However, the score for stony irons seems to still be low. This is potentially because its characteristics is between irons and stones, making it hard for the model to distinguish between."
   ]
  },
  {
   "cell_type": "markdown",
   "metadata": {},
   "source": [
    "----\n",
    "**Random Forest Model #4.5: Revisiting Previous Model**\n",
    "\n",
    "For model 4.5, lets revisit model 3 to try out between only iron and stones but with no outliers and with weight parameters."
   ]
  },
  {
   "cell_type": "code",
   "execution_count": 655,
   "metadata": {},
   "outputs": [],
   "source": [
    "df4_5 = pd.concat([df_no_outliers[df_no_outliers['recclass'] == 'Stone'], df_no_outliers[df_no_outliers['recclass'] == 'Iron']])"
   ]
  },
  {
   "cell_type": "code",
   "execution_count": 656,
   "metadata": {},
   "outputs": [],
   "source": [
    "x4_5 = pd.DataFrame(df4_5['mass (g)'])\n",
    "x4_5['reclat'] = df4_5['reclat']\n",
    "x4_5['reclong'] = df4_5['reclong']\n",
    "x4_5['year'] = df4_5['year']"
   ]
  },
  {
   "cell_type": "code",
   "execution_count": 657,
   "metadata": {},
   "outputs": [],
   "source": [
    "y4_5 = df4_5.recclass"
   ]
  },
  {
   "cell_type": "code",
   "execution_count": 658,
   "metadata": {},
   "outputs": [],
   "source": [
    "# split train-test\n",
    "xtrain4_5, xtest4_5, ytrain4_5, ytest4_5 = train_test_split(x4_5, y4_5, test_size = 0.3, random_state = 0)\n",
    "\n",
    "# fit model\n",
    "rf_model4_5 = RandomForestClassifier(n_estimators=100, class_weight = \"balanced\") \n",
    "_ = rf_model4_5.fit(xtrain4_5, ytrain4_5)"
   ]
  },
  {
   "cell_type": "code",
   "execution_count": 659,
   "metadata": {},
   "outputs": [
    {
     "data": {
      "image/png": "[encoded data removed]",
      "text/plain": [
       "<Figure size 432x288 with 2 Axes>"
      ]
     },
     "metadata": {
      "needs_background": "light"
     },
     "output_type": "display_data"
    }
   ],
   "source": [
    "# plotting confusion matrix\n",
    "cm4_5 = confusion_matrix(ytest4_5, rf_model4_5.predict(xtest4_5))\n",
    "\n",
    "labels4_5 = ['Iron', 'Stony Iron']\n",
    "sns.heatmap(cm4_5, annot = True, fmt = 'd', linewidths = 0.5, xticklabels = labels4_5, yticklabels = labels4_5)\n",
    "plt.title('Confusion matrix of the classifier')\n",
    "plt.xlabel('Predicted')\n",
    "plt.ylabel('True')\n",
    "plt.show()"
   ]
  },
  {
   "cell_type": "code",
   "execution_count": 660,
   "metadata": {},
   "outputs": [
    {
     "name": "stdout",
     "output_type": "stream",
     "text": [
      "Accuracy: 0.994124254730839\n"
     ]
    },
    {
     "data": {
      "text/plain": [
       "(array([0.95927602, 0.99480268]),\n",
       " array([0.78228782, 0.99920368]),\n",
       " array([0.86178862, 0.99699832]),\n",
       " array([  271, 11302], dtype=int64))"
      ]
     },
     "execution_count": 660,
     "metadata": {},
     "output_type": "execute_result"
    }
   ],
   "source": [
    "yhat_test4_5 = rf_model4_5.predict(xtest4_5)\n",
    "print(f'Accuracy: {accuracy_score(ytest4_5, yhat_test4_5)}')\n",
    "precision_recall_fscore_support(ytest4_5, yhat_test4_5)"
   ]
  },
  {
   "cell_type": "markdown",
   "metadata": {},
   "source": [
    "From the scores above, this model seems to perform really well between stones and irons. By removing outliers and adding weight parameters into these 2 types, the model is able to perform quite well in separating meteorites into 2 of these classes. This suggests that there are distinct features between stones and irons.\n",
    "\n",
    "------"
   ]
  },
  {
   "cell_type": "markdown",
   "metadata": {},
   "source": [
    "#### **Interpretation and Analysis**"
   ]
  },
  {
   "cell_type": "markdown",
   "metadata": {},
   "source": [
    "**Summary of Data**\n",
    "\n",
    "The data that was used to make each EDA and models is a cleaned version of the original data obtained by NASA's dataset in the link above. The missing data was cleaned in multiple ways: forward filling for the geolocations, as this does not have much significance, and the mass was filled with the median value as the distribution is skewed. Furthermore, it can be seen that meteorites are divided into 3 main types: stones, irons, and stony irons. Since the recclass column in the dataset shows the subtypes of these 3, each subtypes were re-classified into one of the 3 main types to help simplify the classification of each meteorites.\n",
    "\n",
    "**Summary of EDA**\n",
    "EDA shown above was to try to observe and find categories that might fit well with the classifier model. It is seen that when plotting the side by side box plot for the weights of each types, the median and ranges of the 3 types are very . Plotting the geolocation of the meteorites did not show any signs of distiguishable features, but it could potentially help predict the meteorites baseed on its relative latitude and longitude.\n",
    "\n",
    "**Summary of Models**\n",
    "5 (4.5) models were made for the sake of optimizing the performance results of the classification. Each models were slightly changed to fit different scenarios:\n",
    "\n",
    "**All models were done with the following variables:**\n",
    "* Independent Variables: mass, latitude, longitude, if the meteor was fallen or found (later removed due to insignificance), the year it was found\n",
    "\n",
    "* Dependent/Testing Variable: class type of the meteorite\n",
    "\n",
    "**Models**\n",
    "1. Classification of Meteorites\n",
    "2. Classification between Stony Iron and Iron Meteorites\n",
    "3. Classification between Stone and Iron Meteorites\n",
    "4. Classification without Outliers\n",
    "\n",
    "    4.5 Model 3 without Outliers\n",
    "\n",
    "#### **Conclusion**\n",
    "Overall, the models with the best scores on all of its respective classes are models 2 and 4.5. After observation, the model struggles to distinguish between meteorites with characteristics close to 2 types, such as stones and stony irons. Since model 2 only compares between iron and stony iron, the model was able to perform better, and for model 4.5, by removing the outliers, we can see some changes in the performance between stone and iron that yielded better performance scores than the previous model that was done with outliers and without the weight parameter. In short, 2 models were able to perform decently on the classification of meteorites: model 2 classifying between stony iron and iron meteorites, and model 4.5 classifying between stone and iron meteorites. This suggests that meteorites can be classified into its types based on its features such as weight, landing locations, and the year it was found. However, since the model is only limited to classifying between the main types, it might not prove useful to classifying a more subclass type, which might require further experiments or investigation by researchers and scientists."
   ]
  }
 ],
 "metadata": {
  "kernelspec": {
   "display_name": "Python 3",
   "language": "python",
   "name": "python3"
  },
  "language_info": {
   "codemirror_mode": {
    "name": "ipython",
    "version": 3
   },
   "file_extension": ".py",
   "mimetype": "text/x-python",
   "name": "python",
   "nbconvert_exporter": "python",
   "pygments_lexer": "ipython3",
   "version": "3.9.7"
  }
 },
 "nbformat": 4,
 "nbformat_minor": 2
}
